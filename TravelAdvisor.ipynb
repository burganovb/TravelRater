{
 "cells": [
  {
   "cell_type": "markdown",
   "metadata": {},
   "source": [
    "# Travel destination advisor"
   ]
  },
  {
   "cell_type": "code",
   "execution_count": 2,
   "metadata": {
    "collapsed": false
   },
   "outputs": [],
   "source": [
    "import ranktravel as rt"
   ]
  },
  {
   "cell_type": "code",
   "execution_count": 4,
   "metadata": {
    "collapsed": false
   },
   "outputs": [
    {
     "name": "stdout",
     "output_type": "stream",
     "text": [
      "1 ) Pforzheim, Germany  - total score  2267.01038484\n",
      "2 ) Jerusalem, Israel  - total score  2198.65788484\n",
      "3 ) Lviv, Ukraine  - total score  2175.97788484\n",
      "4 ) Rome, Italy  - total score  2057.61038484\n",
      "5 ) Sarajevo, Bosnia And Herzegovina  - total score  2001.05538484\n",
      "\n",
      "***\n",
      "\n",
      "Pforzheim ,  Germany\n",
      "Backpacker's cost per day  77.67\n",
      "Business traveller's cost per day  205.77\n",
      "Population:  117754\n",
      "History score:  204\n",
      "Culture score:  25\n",
      "Year founded:  1067\n",
      "\n",
      "***\n",
      "\n",
      "Jerusalem ,  Israel\n",
      "Backpacker's cost per day  66.71\n",
      "Business traveller's cost per day  252.28\n",
      "Population:  890428\n",
      "History score:  193\n",
      "Culture score:  45\n",
      "Year founded:  -198\n",
      "\n",
      "***\n",
      "\n",
      "Lviv ,  Ukraine\n",
      "Backpacker's cost per day  28.38\n",
      "Business traveller's cost per day  62.65\n",
      "Population:  729429\n",
      "History score:  171\n",
      "Culture score:  91\n",
      "Year founded:  1256\n",
      "\n",
      "***\n",
      "\n",
      "Rome ,  Italy\n",
      "Backpacker's cost per day  67.46\n",
      "Business traveller's cost per day  232.57\n",
      "History score:  153\n",
      "Culture score:  96\n",
      "Year founded:  -509\n",
      "\n",
      "***\n",
      "\n",
      "Sarajevo ,  Bosnia And Herzegovina\n",
      "Backpacker's cost per day  39.18\n",
      "Business traveller's cost per day  110.8\n",
      "Population:  448646\n",
      "History score:  162\n",
      "Culture score:  70\n",
      "Year founded:  1238\n"
     ]
    }
   ],
   "source": [
    "budget={'MaxCostPerDay':350, 'RentCar':True, 'Taxi':False\n",
    "        , 'Meal':'cheap'}\n",
    "\n",
    "priorities={'History':70,'Culture':15, 'Temperature':20, 'Size':1000}\n",
    "month = 'May'\n",
    "rt.rank_destinations(budget, priorities, month)"
   ]
  },
  {
   "cell_type": "code",
   "execution_count": 5,
   "metadata": {
    "collapsed": false
   },
   "outputs": [
    {
     "name": "stdout",
     "output_type": "stream",
     "text": [
      "Rome ,  Italy\n",
      "Backpacker's cost per day  67.46\n",
      "Business traveller's cost per day  232.57\n",
      "History score:  153\n",
      "Culture score:  96\n",
      "Year founded:  -509\n"
     ]
    }
   ],
   "source": [
    "rt.city_lookup('Rome')"
   ]
  },
  {
   "cell_type": "code",
   "execution_count": null,
   "metadata": {
    "collapsed": false
   },
   "outputs": [],
   "source": []
  }
 ],
 "metadata": {
  "kernelspec": {
   "display_name": "Python 2",
   "language": "python",
   "name": "python2"
  },
  "language_info": {
   "codemirror_mode": {
    "name": "ipython",
    "version": 2
   },
   "file_extension": ".py",
   "mimetype": "text/x-python",
   "name": "python",
   "nbconvert_exporter": "python",
   "pygments_lexer": "ipython2",
   "version": "2.7.11"
  }
 },
 "nbformat": 4,
 "nbformat_minor": 0
}
